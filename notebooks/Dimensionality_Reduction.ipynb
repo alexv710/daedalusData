{
 "cells": [
  {
   "cell_type": "markdown",
   "id": "837d8838-5e09-42f8-93ec-1ec65e6e4b66",
   "metadata": {},
   "source": [
    "# UMAP Projection Calculation and Saving"
   ]
  },
  {
   "cell_type": "markdown",
   "id": "2fd7a268",
   "metadata": {},
   "source": [
    "### Goal of this Notebook:\n",
    "- Load projections into `data/projections` dir, with unique names and the following format (image names without file ending):\n",
    "```json\n",
    "[\n",
    "  {\n",
    "    \"image\": \"image_name1\",\n",
    "    \"UMAP1\": 1.7074365615844727,\n",
    "    \"UMAP2\": 0.3955068588256836\n",
    "  },\n",
    "  {\n",
    "    \"image\": \"image_name2\",\n",
    "    \"UMAP1\": -2.22145938873291,\n",
    "    \"UMAP2\": -0.10457038879394531\n",
    "  },\n",
    "]\n",
    "```\n",
    "- For every projection add an entry into `data/projections/manifest.json` with the following format (the element is equal to the filename above):\n",
    "```json\n",
    "[\n",
    "  \"umap_image_projection.json\",\n",
    "  \"umap_combined_projection.json\"\n",
    "]\n",
    "```\n",
    "\n",
    "The frontend will parse the manifest to show what projections are available and will fetch a specific one when requested."
   ]
  },
  {
   "cell_type": "code",
   "execution_count": 5,
   "id": "e7ec860d-325d-44f0-8ad9-6186f6304675",
   "metadata": {},
   "outputs": [],
   "source": [
    "import os\n",
    "import numpy as np\n",
    "import pandas as pd\n",
    "import umap\n",
    "import json\n",
    "from pathlib import Path\n",
    "\n",
    "# --- Define Paths ---\n",
    "NOTEBOOK_DIR = Path(os.getcwd())\n",
    "REPO_ROOT = NOTEBOOK_DIR.parent\n",
    "DATASET_PATH = REPO_ROOT / \"data\"\n",
    "FEATURE_DIR = DATASET_PATH / \"features\"\n",
    "PROJECTIONS_DIR = DATASET_PATH / \"projections\"\n",
    "PROJECTIONS_DIR.mkdir(parents=True, exist_ok=True)"
   ]
  },
  {
   "cell_type": "markdown",
   "id": "92c6986d-25ec-4e25-9316-31fcabb45fe2",
   "metadata": {},
   "source": [
    "# Load Features\n",
    "Load image features (assumed saved in NPZ format with keys \"image_names\" and \"features\")"
   ]
  },
  {
   "cell_type": "code",
   "execution_count": 6,
   "id": "3e3f7798-8079-4195-a311-a15b15b53cdb",
   "metadata": {},
   "outputs": [
    {
     "name": "stdout",
     "output_type": "stream",
     "text": [
      "Loading image features from: /app/data/features/image_features.npz\n",
      "Loading metadata features from: /app/data/features/metadata_features.csv\n"
     ]
    }
   ],
   "source": [
    "img_feat_file = FEATURE_DIR / \"image_features.npz\"\n",
    "print(f\"Loading image features from: {img_feat_file}\")\n",
    "img_data = np.load(img_feat_file, allow_pickle=True)\n",
    "image_names = img_data[\"image_names\"]\n",
    "image_features = img_data[\"features\"]\n",
    "\n",
    "# Load metadata features (CSV, indexed by image names)\n",
    "meta_feat_file = FEATURE_DIR / \"metadata_features.csv\"\n",
    "print(f\"Loading metadata features from: {meta_feat_file}\")\n",
    "df_meta = pd.read_csv(meta_feat_file, index_col=0)\n",
    "# Ensure ordering of metadata features matches image_names\n",
    "metadata_features = df_meta.loc[image_names].values"
   ]
  },
  {
   "cell_type": "markdown",
   "id": "0f6f5d04-b24a-42bb-b2d1-31154811b7da",
   "metadata": {},
   "source": [
    "# Compute UMAP Projections"
   ]
  },
  {
   "cell_type": "code",
   "execution_count": 18,
   "id": "1ca25c5a-462e-40aa-bb89-3a149a655ce7",
   "metadata": {},
   "outputs": [
    {
     "name": "stdout",
     "output_type": "stream",
     "text": [
      "Computing UMAP projection for image features only...\n"
     ]
    },
    {
     "name": "stderr",
     "output_type": "stream",
     "text": [
      "/opt/venv/lib/python3.11/site-packages/sklearn/utils/deprecation.py:151: FutureWarning: 'force_all_finite' was renamed to 'ensure_all_finite' in 1.6 and will be removed in 1.8.\n",
      "  warnings.warn(\n",
      "/opt/venv/lib/python3.11/site-packages/umap/umap_.py:1952: UserWarning: n_jobs value 1 overridden to 1 by setting random_state. Use no seed for parallelism.\n",
      "  warn(\n"
     ]
    },
    {
     "name": "stdout",
     "output_type": "stream",
     "text": [
      "Computing UMAP projection for combined image and metadata features...\n"
     ]
    },
    {
     "name": "stderr",
     "output_type": "stream",
     "text": [
      "/opt/venv/lib/python3.11/site-packages/sklearn/utils/deprecation.py:151: FutureWarning: 'force_all_finite' was renamed to 'ensure_all_finite' in 1.6 and will be removed in 1.8.\n",
      "  warnings.warn(\n",
      "/opt/venv/lib/python3.11/site-packages/umap/umap_.py:1952: UserWarning: n_jobs value 1 overridden to 1 by setting random_state. Use no seed for parallelism.\n",
      "  warn(\n"
     ]
    }
   ],
   "source": [
    "# Define a helper function to compute and normalize UMAP projection\n",
    "def compute_normalized_umap(\n",
    "    features, n_neighbors=15, min_dist=0.1, n_components=2, random_state=42\n",
    "):\n",
    "    reducer = umap.UMAP(\n",
    "        n_neighbors=n_neighbors,\n",
    "        min_dist=min_dist,\n",
    "        n_components=n_components,\n",
    "        random_state=random_state,\n",
    "    )\n",
    "    embedding = reducer.fit_transform(features)\n",
    "    # Normalize coordinates such that the mean is 0 (centered)\n",
    "    embedding_centered = embedding - np.mean(embedding, axis=0)\n",
    "    return embedding_centered\n",
    "\n",
    "\n",
    "print(\"Computing UMAP projection for image features only...\")\n",
    "umap_img = compute_normalized_umap(image_features)\n",
    "\n",
    "umap_img_df = pd.DataFrame(umap_img, columns=[\"UMAP1\", \"UMAP2\"])\n",
    "umap_img_df[\"image\"] = image_names\n",
    "\n",
    "print(\"Computing UMAP projection for combined image and metadata features...\")\n",
    "# Before concatenating, replace NaN values in metadata_features with 0.\n",
    "metadata_features_clean = np.nan_to_num(metadata_features, nan=0.0)\n",
    "# Concatenate along feature axis (horizontally)\n",
    "combined_features = np.hstack([image_features, metadata_features_clean])\n",
    "umap_combined = compute_normalized_umap(combined_features)\n",
    "umap_combined_df = pd.DataFrame(umap_combined, columns=[\"UMAP1\", \"UMAP2\"])\n",
    "umap_combined_df[\"image\"] = image_names"
   ]
  },
  {
   "cell_type": "markdown",
   "id": "32266906-2eb9-4fa7-b31a-d9aaf69b8bb6",
   "metadata": {},
   "source": [
    "# Prepare and Save Image-Only Projection\n",
    "Reset the DataFrame index so that image names become a column"
   ]
  },
  {
   "cell_type": "code",
   "execution_count": 8,
   "id": "7f4bb2cb-fe85-483e-bcde-4af9f2002d90",
   "metadata": {},
   "outputs": [
    {
     "name": "stdout",
     "output_type": "stream",
     "text": [
      "Saved image-only UMAP projection to: /app/data/projections/umap_image_projection.json\n",
      "Saved combined UMAP projection to: /app/data/projections/umap_combined_projection.json\n",
      "Updated projection manifest at: /app/data/projections/projection_manifest.json\n"
     ]
    },
    {
     "name": "stderr",
     "output_type": "stream",
     "text": [
      "/tmp/ipykernel_426/1003609910.py:5: UserWarning: DataFrame columns are not unique, some columns will be omitted.\n",
      "  image_projection = umap_img_df_reset.to_dict(orient=\"records\")\n",
      "/tmp/ipykernel_426/1003609910.py:15: UserWarning: DataFrame columns are not unique, some columns will be omitted.\n",
      "  combined_projection = umap_combined_df_reset.to_dict(orient=\"records\")\n"
     ]
    }
   ],
   "source": [
    "# --- Prepare and Save Image-Only Projection ---\n",
    "umap_img_df_reset = umap_img_df.reset_index().rename(columns={\"index\": \"image\"})\n",
    "# Convert to a list of dictionaries, e.g.,\n",
    "# [ { \"image\": \"pikachu\", \"UMAP1\": 0.123, \"UMAP2\": -0.456 }, ... ]\n",
    "image_projection = umap_img_df_reset.to_dict(orient=\"records\")\n",
    "json_path_image = PROJECTIONS_DIR / \"umap_image_projection.json\"\n",
    "with open(json_path_image, \"w\") as f:\n",
    "    json.dump(image_projection, f, indent=2)\n",
    "print(f\"Saved image-only UMAP projection to: {json_path_image}\")\n",
    "\n",
    "# --- Prepare and Save Combined Projection ---\n",
    "umap_combined_df_reset = umap_combined_df.reset_index().rename(\n",
    "    columns={\"index\": \"image\"}\n",
    ")\n",
    "combined_projection = umap_combined_df_reset.to_dict(orient=\"records\")\n",
    "json_path_combined = PROJECTIONS_DIR / \"umap_combined_projection.json\"\n",
    "with open(json_path_combined, \"w\") as f:\n",
    "    json.dump(combined_projection, f, indent=2)\n",
    "print(f\"Saved combined UMAP projection to: {json_path_combined}\")\n",
    "\n",
    "# --- Update Projection Manifest ---\n",
    "# Create a manifest listing all available projection files\n",
    "manifest = [\n",
    "    json_path_image.name,\n",
    "    json_path_combined.name,\n",
    "]\n",
    "manifest_path = PROJECTIONS_DIR / \"projection_manifest.json\"\n",
    "with open(manifest_path, \"w\") as f:\n",
    "    json.dump(manifest, f, indent=2)\n",
    "print(f\"Updated projection manifest at: {manifest_path}\")"
   ]
  }
 ],
 "metadata": {
  "kernelspec": {
   "display_name": "Python 3 (ipykernel)",
   "language": "python",
   "name": "python3"
  },
  "language_info": {
   "codemirror_mode": {
    "name": "ipython",
    "version": 3
   },
   "file_extension": ".py",
   "mimetype": "text/x-python",
   "name": "python",
   "nbconvert_exporter": "python",
   "pygments_lexer": "ipython3",
   "version": "3.11.2"
  }
 },
 "nbformat": 4,
 "nbformat_minor": 5
}
